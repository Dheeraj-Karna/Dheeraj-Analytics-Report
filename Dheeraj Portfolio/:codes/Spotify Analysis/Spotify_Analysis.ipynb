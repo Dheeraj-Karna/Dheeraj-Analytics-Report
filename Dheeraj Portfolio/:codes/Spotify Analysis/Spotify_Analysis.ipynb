{
 "cells": [
  {
   "cell_type": "code",
   "execution_count": 3,
   "id": "20630743-b9ba-45ee-9d39-b74ec223d553",
   "metadata": {},
   "outputs": [
    {
     "name": "stdout",
     "output_type": "stream",
     "text": [
      "Requirement already satisfied: spotipy in /opt/anaconda3/lib/python3.12/site-packages (2.25.1)\n",
      "Requirement already satisfied: redis>=3.5.3 in /opt/anaconda3/lib/python3.12/site-packages (from spotipy) (6.2.0)\n",
      "Requirement already satisfied: requests>=2.25.0 in /opt/anaconda3/lib/python3.12/site-packages (from spotipy) (2.32.3)\n",
      "Requirement already satisfied: urllib3>=1.26.0 in /opt/anaconda3/lib/python3.12/site-packages (from spotipy) (2.2.3)\n",
      "Requirement already satisfied: charset-normalizer<4,>=2 in /opt/anaconda3/lib/python3.12/site-packages (from requests>=2.25.0->spotipy) (3.3.2)\n",
      "Requirement already satisfied: idna<4,>=2.5 in /opt/anaconda3/lib/python3.12/site-packages (from requests>=2.25.0->spotipy) (3.7)\n",
      "Requirement already satisfied: certifi>=2017.4.17 in /opt/anaconda3/lib/python3.12/site-packages (from requests>=2.25.0->spotipy) (2025.6.15)\n"
     ]
    }
   ],
   "source": [
    "!pip install spotipy"
   ]
  },
  {
   "cell_type": "code",
   "execution_count": 63,
   "id": "5504a530-e1f6-4b48-8611-1be1afa89b8f",
   "metadata": {},
   "outputs": [],
   "source": [
    "import spotipy \n",
    "from spotipy.oauth2 import SpotifyClientCredentials\n",
    "import pandas as pd\n",
    "import os\n",
    "os.environ['SPOTIPY_CLIENT_ID']='10e1b9996ec74f768190105e6d86f0b2'\n",
    "os.environ['SPOTIPY_CLIENT_SECRET']='2e6139c38b524352bd2ebafc9bf38375'\n",
    "os.environ['SPOTIPY_REDIRECT_url']='https://125.0.0.0/call-back'"
   ]
  },
  {
   "cell_type": "code",
   "execution_count": 64,
   "id": "8cbbdbbb-1a70-448a-bb16-cd3a038d0450",
   "metadata": {},
   "outputs": [
    {
     "name": "stdout",
     "output_type": "stream",
     "text": [
      "0 Buddy Holly\n",
      "1 Island In The Sun\n",
      "2 Pink Triangle\n",
      "3 You Gave Your Love To Me Softly\n",
      "4 Say It Ain't So\n",
      "5 Say It Ain't So - Original Mix\n",
      "6 The World Has Turned And Left Me Here - 2024 Remaster\n",
      "7 Undone - The Sweater Song\n",
      "8 Only In Dreams - 2024 Remaster\n",
      "9 I Just Threw Out The Love Of My Dreams\n",
      "10 Think Fast (feat. Weezer)\n",
      "11 Only In Dreams\n",
      "12 Ease\n",
      "13 Teenage Dirtbag\n",
      "14 Hash Pipe\n",
      "15 No One Else - 2024 Remaster\n",
      "16 Happy Together\n",
      "17 Beverly Hills\n",
      "18 sometimes\n",
      "19 Perfect Situation\n"
     ]
    }
   ],
   "source": [
    "from spotipy.oauth2 import SpotifyClientCredentials\n",
    "\n",
    "sp = spotipy.Spotify(auth_manager=SpotifyClientCredentials(client_id=\"10e1b9996ec74f768190105e6d86f0b2\",\n",
    "                                                           client_secret=\"2e6139c38b524352bd2ebafc9bf38375\"))\n",
    "\n",
    "results = sp.search(q='weezer', limit=20)\n",
    "for idx, track in enumerate(results['tracks']['items']):\n",
    "    print(idx, track['name'])"
   ]
  },
  {
   "cell_type": "code",
   "execution_count": 65,
   "id": "51778669-ad4a-47ba-94c6-5cb4bc58e2bd",
   "metadata": {},
   "outputs": [
    {
     "data": {
      "text/html": [
       "<div>\n",
       "<style scoped>\n",
       "    .dataframe tbody tr th:only-of-type {\n",
       "        vertical-align: middle;\n",
       "    }\n",
       "\n",
       "    .dataframe tbody tr th {\n",
       "        vertical-align: top;\n",
       "    }\n",
       "\n",
       "    .dataframe thead th {\n",
       "        text-align: right;\n",
       "    }\n",
       "</style>\n",
       "<table border=\"1\" class=\"dataframe\">\n",
       "  <thead>\n",
       "    <tr style=\"text-align: right;\">\n",
       "      <th></th>\n",
       "      <th>name</th>\n",
       "      <th>release_date</th>\n",
       "      <th>total_tracks</th>\n",
       "      <th>popularity</th>\n",
       "    </tr>\n",
       "  </thead>\n",
       "  <tbody>\n",
       "    <tr>\n",
       "      <th>18</th>\n",
       "      <td>Rowdy Boys</td>\n",
       "      <td>2021-09-03</td>\n",
       "      <td>9</td>\n",
       "      <td>47</td>\n",
       "    </tr>\n",
       "    <tr>\n",
       "      <th>10</th>\n",
       "      <td>Pushpa 2 The Rule Ost</td>\n",
       "      <td>2025-01-21</td>\n",
       "      <td>7</td>\n",
       "      <td>42</td>\n",
       "    </tr>\n",
       "    <tr>\n",
       "      <th>17</th>\n",
       "      <td>Fresh Face To Tollywood</td>\n",
       "      <td>2022-04-01</td>\n",
       "      <td>25</td>\n",
       "      <td>42</td>\n",
       "    </tr>\n",
       "    <tr>\n",
       "      <th>13</th>\n",
       "      <td>Pushpa The Rise - OST</td>\n",
       "      <td>2023-05-26</td>\n",
       "      <td>18</td>\n",
       "      <td>38</td>\n",
       "    </tr>\n",
       "    <tr>\n",
       "      <th>4</th>\n",
       "      <td>Kuberaa</td>\n",
       "      <td>2025-04-20</td>\n",
       "      <td>9</td>\n",
       "      <td>30</td>\n",
       "    </tr>\n",
       "  </tbody>\n",
       "</table>\n",
       "</div>"
      ],
      "text/plain": [
       "                       name release_date  total_tracks  popularity\n",
       "18               Rowdy Boys   2021-09-03             9          47\n",
       "10    Pushpa 2 The Rule Ost   2025-01-21             7          42\n",
       "17  Fresh Face To Tollywood   2022-04-01            25          42\n",
       "13    Pushpa The Rise - OST   2023-05-26            18          38\n",
       "4                   Kuberaa   2025-04-20             9          30"
      ]
     },
     "execution_count": 65,
     "metadata": {},
     "output_type": "execute_result"
    }
   ],
   "source": [
    "# Top popular albums by an artist\n",
    "\n",
    "# --- Authentication ---\n",
    "# Make sure to set your credentials as environment variables\n",
    "# export SPOTIPY_CLIENT_ID='your-client-id'\n",
    "# export SPOTIPY_CLIENT_SECRET='your-client-secret'\n",
    "\n",
    "auth_manager = SpotifyClientCredentials()\n",
    "sp = spotipy.Spotify(auth_manager=auth_manager)\n",
    "\n",
    "\n",
    "# --- Data Retrieval ---\n",
    "artist_uri = 'https://open.spotify.com/artist/5sSzCxHtgL82pYDvx2QyEU?si=-KshPE3ITQaltWe0AfUzBQ' # Artist URI for DSP\n",
    "results = sp.artist_albums(artist_uri, album_type='album')\n",
    "albums = results['items']\n",
    "\n",
    "# --- Data Analysis with Pandas ---\n",
    "album_data = []\n",
    "for album in albums:\n",
    "    album_data.append({\n",
    "        'name': album['name'],\n",
    "        'release_date': album['release_date'],\n",
    "        'total_tracks': album['total_tracks'],\n",
    "        # Fetch popularity for each album (requires an additional API call per album)\n",
    "        'popularity': sp.album(album['id'])['popularity']\n",
    "    })\n",
    "\n",
    "df_albums = pd.DataFrame(album_data)\n",
    "\n",
    "# Sort by popularity\n",
    "df_popular_albums = df_albums.sort_values(by='popularity', ascending=False)\n",
    "\n",
    "#print(\"--- Top 5 Most Popular Albums by DSP ---\")\n",
    "df_popular_albums.head(5)\n"
   ]
  },
  {
   "cell_type": "code",
   "execution_count": 76,
   "id": "baadfedc-abf7-4f8c-bc8f-e58d32cfdf7f",
   "metadata": {},
   "outputs": [
    {
     "name": "stdout",
     "output_type": "stream",
     "text": [
      "Chaleya\n",
      "Chuttamalle (From \"Devara Part 1\")\n",
      "Monica (From \"Coolie\") (Tamil)\n",
      "Chikitu (From \"Coolie\") (Tamil)\n",
      "Kannamma - From \"Ispade Rajavum Idhaya Raniyum\"\n",
      "Nee Paartha Vizhigal - The Touch of Love\n",
      "Yaanji - From \"Vikram Vedha\"\n",
      "Manasilaayo\n",
      "Pathikichu (From \"Vidaamuyarchi\")\n",
      "Paththavaikkum (From \"Devara Part 1\")\n"
     ]
    }
   ],
   "source": [
    "#2. Retrieve and Display an Artist’s Top Tracks \n",
    "\n",
    "# Authenticate (ensure environment variables for credentials are set)\n",
    "sp = spotipy.Spotify(auth_manager=SpotifyClientCredentials())\n",
    "\n",
    "# Choose an artist's Spotify ID \n",
    "artist_id = 'https://open.spotify.com/artist/4zCH9qm4R2DADamUHMCa6O?si=_RUPFE2FQe-a4UDM4xOFIQV'\n",
    "\n",
    "# Fetch top tracks for artist in the india\n",
    "results = sp.artist_top_tracks(artist_id, country='IND')\n",
    "for track in results['tracks']:\n",
    "    print(track['name'])"
   ]
  },
  {
   "cell_type": "code",
   "execution_count": 80,
   "id": "68f59ff6-e592-4055-941d-74a6f8814760",
   "metadata": {},
   "outputs": [
    {
     "name": "stdout",
     "output_type": "stream",
     "text": [
      "--- Albums by Mani Sharma ---\n",
      "Athadu (OST)\n",
      "Kannappa (kannada)\n",
      "Kannappa (Tamil)\n",
      "Kannappa (Malayalam)\n",
      "Kannappa (TELUGU)\n",
      "Kannappa (HINDI)\n",
      "Lyf (Love Your Father) Ost\n",
      "Lyf (Love Your Father) [DIALOGUES]\n",
      "Khaleja (Deluxe Edition) [Original Motion Picture Soundtrack]\n",
      "Rajadhiraja Rajamanikanta\n",
      "Deviputrudu\n",
      "Raa Raa Penimiti (Original Motion Pictures Soundtrack)\n",
      "Ninnindale Dialogues\n",
      "Bobby\n",
      "Tippu\n",
      "Ashok\n",
      "National Crush Rashmika Mandanna Hit Songs\n",
      "Adavi Ramudu\n",
      "Acharya\n",
      "Devadas\n"
     ]
    }
   ],
   "source": [
    "#3. Show Albums from an Artist\n",
    "\n",
    "sp = spotipy.Spotify(auth_manager=SpotifyClientCredentials())\n",
    "\n",
    "# Spotify Artist URL or URI\n",
    "artist_id = 'https://open.spotify.com/artist/3AMxH9QIPZbK8ND8C9j4Ss?si=FFG4npqGR62osSQuhSFbLw'\n",
    "\n",
    "# --- NEW: Fetch artist details to get their name ---\n",
    "artist_info = sp.artist(artist_id)\n",
    "artist_name = artist_info['name']\n",
    "\n",
    "# Display the artist's name in a header\n",
    "print(f\"--- Albums by {artist_name} ---\")\n",
    "\n",
    "# --- Original code to get the albums ---\n",
    "results = sp.artist_albums(artist_id, album_type='album')\n",
    "\n",
    "for album in results['items']:\n",
    "    print(album['name'])\n"
   ]
  }
 ],
 "metadata": {
  "kernelspec": {
   "display_name": "Python [conda env:base] *",
   "language": "python",
   "name": "conda-base-py"
  },
  "language_info": {
   "codemirror_mode": {
    "name": "ipython",
    "version": 3
   },
   "file_extension": ".py",
   "mimetype": "text/x-python",
   "name": "python",
   "nbconvert_exporter": "python",
   "pygments_lexer": "ipython3",
   "version": "3.12.7"
  }
 },
 "nbformat": 4,
 "nbformat_minor": 5
}
